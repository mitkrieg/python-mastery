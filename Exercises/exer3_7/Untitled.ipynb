{
 "cells": [
  {
   "cell_type": "code",
   "execution_count": 1,
   "id": "05f481af-7baa-4082-b3dd-6987f3fd97cd",
   "metadata": {},
   "outputs": [],
   "source": [
    "from tableformat import TableFormatter"
   ]
  },
  {
   "cell_type": "code",
   "execution_count": 2,
   "id": "14e65275-44c7-4188-89ca-d153496a4836",
   "metadata": {},
   "outputs": [],
   "source": [
    "class NewFormatter(TableFormatter):\n",
    "        def headers(self, headings):\n",
    "            pass\n",
    "        def row(self, rowdata):\n",
    "            pass"
   ]
  },
  {
   "cell_type": "code",
   "execution_count": 3,
   "id": "442edbd3-ec11-4333-bedb-26725f00346c",
   "metadata": {},
   "outputs": [
    {
     "ename": "TypeError",
     "evalue": "Can't instantiate abstract class NewFormatter with abstract method headings",
     "output_type": "error",
     "traceback": [
      "\u001b[0;31m---------------------------------------------------------------------------\u001b[0m",
      "\u001b[0;31mTypeError\u001b[0m                                 Traceback (most recent call last)",
      "Cell \u001b[0;32mIn [3], line 1\u001b[0m\n\u001b[0;32m----> 1\u001b[0m f \u001b[38;5;241m=\u001b[39m NewFormatter()\n",
      "\u001b[0;31mTypeError\u001b[0m: Can't instantiate abstract class NewFormatter with abstract method headings"
     ]
    }
   ],
   "source": [
    "f = NewFormatter()"
   ]
  },
  {
   "cell_type": "code",
   "execution_count": null,
   "id": "e4036d2f-6ec3-47f6-82c2-a54957854907",
   "metadata": {},
   "outputs": [],
   "source": []
  }
 ],
 "metadata": {
  "kernelspec": {
   "display_name": "Python 3 (ipykernel)",
   "language": "python",
   "name": "python3"
  },
  "language_info": {
   "codemirror_mode": {
    "name": "ipython",
    "version": 3
   },
   "file_extension": ".py",
   "mimetype": "text/x-python",
   "name": "python",
   "nbconvert_exporter": "python",
   "pygments_lexer": "ipython3",
   "version": "3.10.7"
  }
 },
 "nbformat": 4,
 "nbformat_minor": 5
}
